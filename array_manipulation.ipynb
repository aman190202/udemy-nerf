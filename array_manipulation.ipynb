{
 "cells": [
  {
   "cell_type": "code",
   "execution_count": 3,
   "metadata": {},
   "outputs": [],
   "source": [
    "import numpy as np"
   ]
  },
  {
   "cell_type": "code",
   "execution_count": 4,
   "metadata": {},
   "outputs": [
    {
     "data": {
      "text/plain": [
       "(4,)"
      ]
     },
     "execution_count": 4,
     "metadata": {},
     "output_type": "execute_result"
    }
   ],
   "source": [
    "a = np.array([1,2,3,4])\n",
    "a.shape"
   ]
  },
  {
   "cell_type": "code",
   "execution_count": 5,
   "metadata": {},
   "outputs": [
    {
     "data": {
      "text/plain": [
       "torch.Size([4])"
      ]
     },
     "execution_count": 5,
     "metadata": {},
     "output_type": "execute_result"
    }
   ],
   "source": [
    "import torch\n",
    "\n",
    "a_tensor = torch.from_numpy(a)\n",
    "a_tensor.shape"
   ]
  },
  {
   "cell_type": "code",
   "execution_count": 6,
   "metadata": {},
   "outputs": [
    {
     "data": {
      "text/plain": [
       "torch.Size([4, 1])"
      ]
     },
     "execution_count": 6,
     "metadata": {},
     "output_type": "execute_result"
    }
   ],
   "source": [
    "a_tensor.unsqueeze(1).shape"
   ]
  },
  {
   "cell_type": "code",
   "execution_count": 7,
   "metadata": {},
   "outputs": [
    {
     "data": {
      "text/plain": [
       "tensor(4)"
      ]
     },
     "execution_count": 7,
     "metadata": {},
     "output_type": "execute_result"
    }
   ],
   "source": [
    "a_tensor[-1]"
   ]
  },
  {
   "cell_type": "code",
   "execution_count": 8,
   "metadata": {},
   "outputs": [
    {
     "name": "stdout",
     "output_type": "stream",
     "text": [
      "(1, 2, 3)\n"
     ]
    },
    {
     "data": {
      "text/plain": [
       "(2, 1, 2, 3)"
      ]
     },
     "execution_count": 8,
     "metadata": {},
     "output_type": "execute_result"
    }
   ],
   "source": [
    "import numpy as np\n",
    "x = np.array([[[1,2,3],[5,6,7]]])\n",
    "y = np.array([[[8,9,10],[11,12,13]]])\n",
    "print(x.shape)\n",
    "np.stack((x,y)).shape"
   ]
  },
  {
   "cell_type": "code",
   "execution_count": 24,
   "metadata": {},
   "outputs": [
    {
     "data": {
      "text/plain": [
       "array(3)"
      ]
     },
     "execution_count": 24,
     "metadata": {},
     "output_type": "execute_result"
    }
   ],
   "source": [
    "a = np.array([1,2,3])\n",
    "a[...,-1]\n"
   ]
  },
  {
   "cell_type": "code",
   "execution_count": 31,
   "metadata": {},
   "outputs": [
    {
     "name": "stdout",
     "output_type": "stream",
     "text": [
      "Epoch : 0 loss : 42.0 X : tensor([0.2000, 0.8000, 1.8000], requires_grad=True) \n",
      "Epoch : 10 loss : 0.779121458530426 X : tensor([1.5955, 2.9010, 2.9999], requires_grad=True) \n",
      "Epoch : 20 loss : 0.18997855484485626 X : tensor([2.2955, 2.9955, 3.0000], requires_grad=True) \n",
      "Epoch : 30 loss : 0.047789137810468674 X : tensor([2.6466, 2.9998, 3.0000], requires_grad=True) \n",
      "Epoch : 40 loss : 0.012024402618408203 X : tensor([2.8227, 3.0000, 3.0000], requires_grad=True) \n",
      "Epoch : 50 loss : 0.003025513142347336 X : tensor([2.9111, 3.0000, 3.0000], requires_grad=True) \n",
      "Epoch : 60 loss : 0.0007612583576701581 X : tensor([2.9554, 3.0000, 3.0000], requires_grad=True) \n",
      "Epoch : 70 loss : 0.0001915451866807416 X : tensor([2.9776, 3.0000, 3.0000], requires_grad=True) \n",
      "Epoch : 80 loss : 4.8197329306276515e-05 X : tensor([2.9888, 3.0000, 3.0000], requires_grad=True) \n",
      "Epoch : 90 loss : 1.2128301023039967e-05 X : tensor([2.9944, 3.0000, 3.0000], requires_grad=True) \n",
      "tensor([2.9970, 6.0000, 9.0000], grad_fn=<MulBackward0>)\n"
     ]
    },
    {
     "data": {
      "image/png": "[encoded data removed]",
      "text/plain": [
       "<Figure size 640x480 with 1 Axes>"
      ]
     },
     "metadata": {},
     "output_type": "display_data"
    }
   ],
   "source": [
    "import torch \n",
    "\n",
    "a = torch.tensor([1.,2.,3.])\n",
    "x = torch.tensor([0.,0.,0.],requires_grad=True)\n",
    "b = torch.tensor([3.,6.,9.])\n",
    "\n",
    "\n",
    "optimizer = torch.optim.SGD({x},lr=1e-1)\n",
    "losses = []\n",
    "for epoch in range(100):\n",
    "\n",
    "    loss = ((a*x -b)**2).mean()\n",
    "    optimizer.zero_grad()\n",
    "    loss.backward()\n",
    "    optimizer.step()\n",
    "    losses.append(loss.item())\n",
    "\n",
    "    if(epoch%10 ==0 ):\n",
    "        print(f'Epoch : {epoch} loss : {loss} X : {x} ')\n",
    "\n",
    "import matplotlib.pyplot as plt\n",
    "plt.plot(losses)\n",
    "print(a*x)\n",
    "    "
   ]
  }
 ],
 "metadata": {
  "kernelspec": {
   "display_name": "env",
   "language": "python",
   "name": "python3"
  },
  "language_info": {
   "codemirror_mode": {
    "name": "ipython",
    "version": 3
   },
   "file_extension": ".py",
   "mimetype": "text/x-python",
   "name": "python",
   "nbconvert_exporter": "python",
   "pygments_lexer": "ipython3",
   "version": "3.8.16"
  },
  "orig_nbformat": 4
 },
 "nbformat": 4,
 "nbformat_minor": 2
}
