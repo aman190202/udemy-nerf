{
 "cells": [
  {
   "cell_type": "code",
   "execution_count": 1,
   "metadata": {},
   "outputs": [],
   "source": [
    "from simulator import simulator\n",
    "import torch \n",
    "import numpy as np\n",
    "import matplotlib.pyplot as plt"
   ]
  },
  {
   "cell_type": "code",
   "execution_count": 2,
   "metadata": {},
   "outputs": [],
   "source": [
    "x0 = torch.tensor([0,0])\n",
    "v0 = torch.tensor([10,10])"
   ]
  },
  {
   "cell_type": "code",
   "execution_count": 19,
   "metadata": {},
   "outputs": [
    {
     "data": {
      "text/plain": [
       "array([[ 0.00000000e+00,  0.00000000e+00],\n",
       "       [ 1.00000000e+01,  5.09499979e+00],\n",
       "       [ 2.00000000e+01,  3.79999161e-01],\n",
       "       [ 3.00000000e+01, -1.41450005e+01],\n",
       "       [ 4.00000000e+01, -3.84800034e+01],\n",
       "       [ 5.00000000e+01, -7.26250076e+01],\n",
       "       [ 6.00000000e+01, -1.16580002e+02],\n",
       "       [ 7.00000000e+01, -1.70345016e+02],\n",
       "       [ 8.00000000e+01, -2.33920013e+02],\n",
       "       [ 9.00000000e+01, -3.07305023e+02],\n",
       "       [ 1.00000000e+02, -3.90500031e+02],\n",
       "       [ 1.10000000e+02, -4.83505005e+02],\n",
       "       [ 1.20000000e+02, -5.86320007e+02],\n",
       "       [ 1.30000000e+02, -6.98945007e+02],\n",
       "       [ 1.40000000e+02, -8.21380066e+02],\n",
       "       [ 1.50000000e+02, -9.53625000e+02],\n",
       "       [ 1.60000000e+02, -1.09568005e+03],\n",
       "       [ 1.70000000e+02, -1.24754504e+03],\n",
       "       [ 1.80000000e+02, -1.40922009e+03],\n",
       "       [ 1.90000000e+02, -1.58070508e+03],\n",
       "       [ 2.00000000e+02, -1.76200012e+03],\n",
       "       [ 2.10000000e+02, -1.95310498e+03],\n",
       "       [ 2.20000000e+02, -2.15402002e+03],\n",
       "       [ 2.30000000e+02, -2.36474512e+03],\n",
       "       [ 2.40000000e+02, -2.58528003e+03],\n",
       "       [ 2.50000000e+02, -2.81562524e+03],\n",
       "       [ 2.60000000e+02, -3.05578003e+03],\n",
       "       [ 2.70000000e+02, -3.30574512e+03],\n",
       "       [ 2.80000000e+02, -3.56552026e+03],\n",
       "       [ 2.90000000e+02, -3.83510498e+03],\n",
       "       [ 3.00000000e+02, -4.11450000e+03],\n",
       "       [ 3.10000000e+02, -4.40370508e+03],\n",
       "       [ 3.20000000e+02, -4.70272021e+03],\n",
       "       [ 3.30000000e+02, -5.01154541e+03],\n",
       "       [ 3.40000000e+02, -5.33018018e+03],\n",
       "       [ 3.50000000e+02, -5.65862549e+03],\n",
       "       [ 3.60000000e+02, -5.99688037e+03],\n",
       "       [ 3.70000000e+02, -6.34494531e+03],\n",
       "       [ 3.80000000e+02, -6.70282031e+03],\n",
       "       [ 3.90000000e+02, -7.07050537e+03],\n",
       "       [ 4.00000000e+02, -7.44800049e+03],\n",
       "       [ 4.10000000e+02, -7.83530566e+03],\n",
       "       [ 4.20000000e+02, -8.23241992e+03],\n",
       "       [ 4.30000000e+02, -8.63934570e+03],\n",
       "       [ 4.40000000e+02, -9.05608008e+03],\n",
       "       [ 4.50000000e+02, -9.48262500e+03],\n",
       "       [ 4.60000000e+02, -9.91898047e+03],\n",
       "       [ 4.70000000e+02, -1.03651455e+04],\n",
       "       [ 4.80000000e+02, -1.08211201e+04],\n",
       "       [ 4.90000000e+02, -1.12869053e+04],\n",
       "       [ 5.00000000e+02, -1.17625010e+04],\n",
       "       [ 5.10000000e+02, -1.22479053e+04],\n",
       "       [ 5.20000000e+02, -1.27431201e+04],\n",
       "       [ 5.30000000e+02, -1.32481455e+04],\n",
       "       [ 5.40000000e+02, -1.37629805e+04],\n",
       "       [ 5.50000000e+02, -1.42876260e+04],\n",
       "       [ 5.60000000e+02, -1.48220811e+04],\n",
       "       [ 5.70000000e+02, -1.53663457e+04],\n",
       "       [ 5.80000000e+02, -1.59204199e+04],\n",
       "       [ 5.90000000e+02, -1.64843066e+04],\n",
       "       [ 6.00000000e+02, -1.70580000e+04],\n",
       "       [ 6.10000000e+02, -1.76415059e+04],\n",
       "       [ 6.20000000e+02, -1.82348203e+04],\n",
       "       [ 6.30000000e+02, -1.88379453e+04],\n",
       "       [ 6.40000000e+02, -1.94508809e+04],\n",
       "       [ 6.50000000e+02, -2.00736250e+04],\n",
       "       [ 6.60000000e+02, -2.07061816e+04],\n",
       "       [ 6.70000000e+02, -2.13485469e+04],\n",
       "       [ 6.80000000e+02, -2.20007207e+04],\n",
       "       [ 6.90000000e+02, -2.26627051e+04],\n",
       "       [ 7.00000000e+02, -2.33345020e+04],\n",
       "       [ 7.10000000e+02, -2.40161055e+04],\n",
       "       [ 7.20000000e+02, -2.47075215e+04],\n",
       "       [ 7.30000000e+02, -2.54087461e+04],\n",
       "       [ 7.40000000e+02, -2.61197812e+04],\n",
       "       [ 7.50000000e+02, -2.68406270e+04],\n",
       "       [ 7.60000000e+02, -2.75712812e+04],\n",
       "       [ 7.70000000e+02, -2.83117461e+04],\n",
       "       [ 7.80000000e+02, -2.90620215e+04],\n",
       "       [ 7.90000000e+02, -2.98221055e+04],\n",
       "       [ 8.00000000e+02, -3.05920020e+04],\n",
       "       [ 8.10000000e+02, -3.13717070e+04],\n",
       "       [ 8.20000000e+02, -3.21612227e+04],\n",
       "       [ 8.30000000e+02, -3.29605469e+04],\n",
       "       [ 8.40000000e+02, -3.37696797e+04],\n",
       "       [ 8.50000000e+02, -3.45886250e+04],\n",
       "       [ 8.60000000e+02, -3.54173828e+04],\n",
       "       [ 8.70000000e+02, -3.62559453e+04],\n",
       "       [ 8.80000000e+02, -3.71043203e+04],\n",
       "       [ 8.90000000e+02, -3.79625078e+04],\n",
       "       [ 9.00000000e+02, -3.88305000e+04],\n",
       "       [ 9.10000000e+02, -3.97083086e+04],\n",
       "       [ 9.20000000e+02, -4.05959219e+04],\n",
       "       [ 9.30000000e+02, -4.14933477e+04],\n",
       "       [ 9.40000000e+02, -4.24005820e+04],\n",
       "       [ 9.50000000e+02, -4.33176250e+04],\n",
       "       [ 9.60000000e+02, -4.42444805e+04],\n",
       "       [ 9.70000000e+02, -4.51811484e+04],\n",
       "       [ 9.80000000e+02, -4.61276211e+04],\n",
       "       [ 9.90000000e+02, -4.70839062e+04]])"
      ]
     },
     "execution_count": 19,
     "metadata": {},
     "output_type": "execute_result"
    }
   ],
   "source": [
    "x = torch.cat((x0,v0))\n",
    "\n",
    "all_pos = []\n",
    "for i in range(0,100):\n",
    "    y = simulator(x,t=i)\n",
    "    all_pos.append(y[:2].tolist())\n",
    "\n",
    "all_pos = np.array(all_pos)\n",
    "all_pos"
   ]
  },
  {
   "cell_type": "code",
   "execution_count": 22,
   "metadata": {},
   "outputs": [
    {
     "data": {
      "text/plain": [
       "<matplotlib.collections.PathCollection at 0x155764730>"
      ]
     },
     "execution_count": 22,
     "metadata": {},
     "output_type": "execute_result"
    },
    {
     "data": {
      "image/png": "[encoded data removed]",
      "text/plain": [
       "<Figure size 640x480 with 1 Axes>"
      ]
     },
     "metadata": {},
     "output_type": "display_data"
    }
   ],
   "source": [
    "plt.scatter(all_pos[:,0],all_pos[:,1])"
   ]
  },
  {
   "cell_type": "code",
   "execution_count": 18,
   "metadata": {},
   "outputs": [
    {
     "ename": "TypeError",
     "evalue": "list indices must be integers or slices, not tuple",
     "output_type": "error",
     "traceback": [
      "\u001b[0;31m---------------------------------------------------------------------------\u001b[0m",
      "\u001b[0;31mTypeError\u001b[0m                                 Traceback (most recent call last)",
      "Cell \u001b[0;32mIn[18], line 1\u001b[0m\n\u001b[0;32m----> 1\u001b[0m plt\u001b[39m.\u001b[39mscatter(all_pos[:,\u001b[39m0\u001b[39;49m],all_pos[:,\u001b[39m1\u001b[39m])\n",
      "\u001b[0;31mTypeError\u001b[0m: list indices must be integers or slices, not tuple"
     ]
    }
   ],
   "source": [
    "plt.scatter(all_pos[:,0],all_pos[:,1])"
   ]
  }
 ],
 "metadata": {
  "kernelspec": {
   "display_name": "env",
   "language": "python",
   "name": "python3"
  },
  "language_info": {
   "codemirror_mode": {
    "name": "ipython",
    "version": 3
   },
   "file_extension": ".py",
   "mimetype": "text/x-python",
   "name": "python",
   "nbconvert_exporter": "python",
   "pygments_lexer": "ipython3",
   "version": "3.8.16"
  },
  "orig_nbformat": 4
 },
 "nbformat": 4,
 "nbformat_minor": 2
}
