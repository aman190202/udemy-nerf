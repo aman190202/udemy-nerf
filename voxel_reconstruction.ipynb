{
 "cells": [
  {
   "cell_type": "code",
   "execution_count": 39,
   "metadata": {},
   "outputs": [],
   "source": [
    "import torch\n",
    "import numpy as np\n",
    "import os\n",
    "import imageio\n",
    "import matplotlib.pyplot as plt\n",
    "from torch.utils.data import DataLoader\n",
    "\n",
    "def get_rays(datapath, mode='train'):\n",
    "    \n",
    "    pose_file_names = [f for f in os.listdir(datapath + f'/{mode}/pose') if f.endswith('.txt')]\n",
    "    intrisics_file_names = [f for f in os.listdir(datapath + f'/{mode}/intrinsics') if f.endswith('.txt')]\n",
    "    img_file_names = [f for f in os.listdir(datapath + '/imgs') if mode in f]\n",
    "\n",
    "    assert len(pose_file_names) == len(intrisics_file_names)\n",
    "    assert len(img_file_names) == len(pose_file_names)\n",
    "    \n",
    "    # Read\n",
    "    N = len(pose_file_names)\n",
    "    poses = np.zeros((N, 4, 4))\n",
    "    intrinsics = np.zeros((N, 4, 4))\n",
    "    \n",
    "    images = []\n",
    "    \n",
    "    for i in range(N):\n",
    "        name = pose_file_names[i]\n",
    "        \n",
    "        pose = open(datapath + f'/{mode}/pose/' + name).read().split()\n",
    "        poses[i] = np.array(pose, dtype=float).reshape(4, 4)\n",
    "        \n",
    "        intrinsic = open(datapath + f'/{mode}/intrinsics/' + name).read().split()\n",
    "        intrinsics[i] = np.array(intrinsic, dtype=float).reshape(4, 4)\n",
    "        \n",
    "        # Read images\n",
    "        img = imageio.imread(datapath + '/imgs/' + name.replace('txt', 'png')) / 255.\n",
    "        images.append(img[None, ...])\n",
    "    \n",
    "    images = np.concatenate(images)\n",
    "    \n",
    "    "
   ]
  },
  {
   "cell_type": "code",
   "execution_count": 40,
   "metadata": {},
   "outputs": [
    {
     "name": "stdout",
     "output_type": "stream",
     "text": [
      "(400, 400, 4)\n",
      "(1, 400, 400, 4)\n",
      "(1, 1, 400, 400, 4)\n"
     ]
    },
    {
     "name": "stderr",
     "output_type": "stream",
     "text": [
      "/var/folders/0_/jlz3w3sd0rvgpp49r0h93j_c0000gn/T/ipykernel_13285/350446273.py:34: DeprecationWarning: Starting with ImageIO v3 the behavior of this function will switch to that of iio.v3.imread. To keep the current behavior (and make this warning disappear) use `import imageio.v2 as imageio` or call `imageio.v2.imread` directly.\n",
      "  img = imageio.imread(datapath + '/imgs/' + name.replace('txt', 'png')) / 255.\n"
     ]
    }
   ],
   "source": [
    "datapath = 'fox'\n",
    "get_rays(datapath)"
   ]
  }
 ],
 "metadata": {
  "kernelspec": {
   "display_name": "env",
   "language": "python",
   "name": "python3"
  },
  "language_info": {
   "codemirror_mode": {
    "name": "ipython",
    "version": 3
   },
   "file_extension": ".py",
   "mimetype": "text/x-python",
   "name": "python",
   "nbconvert_exporter": "python",
   "pygments_lexer": "ipython3",
   "version": "3.8.17"
  },
  "orig_nbformat": 4
 },
 "nbformat": 4,
 "nbformat_minor": 2
}
