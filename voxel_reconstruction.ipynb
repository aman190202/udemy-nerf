{
 "cells": [
  {
   "cell_type": "code",
   "execution_count": null,
   "metadata": {},
   "outputs": [],
   "source": [
    "import torch\n",
    "from torch import nn\n",
    "import numpy as np\n",
    "import os\n",
    "import imageio\n",
    "import matplotlib.pyplot as plt\n",
    "from torch.utils.data import DataLoader\n",
    "from dataset import get_rays\n",
    "from model import Voxels\n",
    "from rendering import rendering"
   ]
  },
  {
   "cell_type": "code",
   "execution_count": null,
   "metadata": {},
   "outputs": [],
   "source": [
    "datapath = 'fox'\n",
    "batch_size = 1024\n",
    "\n",
    "o, d, target_px_values = get_rays(datapath,'train')\n",
    "test_o, test_d, test_target_px_values = get_rays(datapath,'test')\n",
    "dataloader = DataLoader(torch.cat((torch.from_numpy(o).reshape(-1,3),torch.from_numpy(d).reshape(-1,3),torch.from_numpy(target_px_values).reshape(-1,3)),dim=1),\n",
    "                        batch_size=batch_size,shuffle=True)"
   ]
  },
  {
   "cell_type": "code",
   "execution_count": null,
   "metadata": {},
   "outputs": [],
   "source": [
    "from tqdm import tqdm\n",
    "from rendering import rendering\n",
    "import torch\n",
    "\n",
    "def training(model, optimizer, scheduler, tn, tf, nb_bins, nb_epochs, data_loader, device='cpu'):\n",
    "    \n",
    "    training_loss = []\n",
    "    for epoch in (range(nb_epochs)):\n",
    "        for batch in tqdm(data_loader):\n",
    "            o = batch[:, :3].to(device)\n",
    "            d = batch[:, 3:6].to(device)\n",
    "            \n",
    "            target = batch[:, 6:].to(device)\n",
    "            \n",
    "            prediction = rendering(model, o, d, tn, tf, nb_bins=nb_bins, device=device)\n",
    "            \n",
    "            loss = ((prediction - target)**2).mean()\n",
    "            \n",
    "            optimizer.zero_grad()\n",
    "            loss.backward()\n",
    "            optimizer.step()\n",
    "            training_loss.append(loss.item())\n",
    "            \n",
    "        scheduler.step()\n",
    "        \n",
    "        torch.save(model.cpu(), 'model_nerf')\n",
    "        model.to(device)\n",
    "        \n",
    "    return training_loss"
   ]
  },
  {
   "cell_type": "code",
   "execution_count": null,
   "metadata": {},
   "outputs": [],
   "source": [
    "device = 'cpu'\n",
    "model = Voxels(scale=3,device = device)\n",
    "nb_epochs = 15\n",
    "nb_bins = 100\n",
    "lr = 1e-3\n",
    "gamma = 0.5\n",
    "optimizer = torch.optim.Adam(model.parameters(),lr = lr)\n",
    "scheduler = torch.optim.lr_scheduler.MultiStepLR(optimizer,milestones=[5,10], gamma = gamma)\n",
    "tn = 8\n",
    "tf = 12\n",
    "n_bins = 100\n",
    "\n",
    "training = training (model,optimizer,scheduler,tn,tf,nb_bins,nb_epochs,dataloader,device=device)"
   ]
  }
 ],
 "metadata": {
  "kernelspec": {
   "display_name": "env",
   "language": "python",
   "name": "python3"
  },
  "language_info": {
   "codemirror_mode": {
    "name": "ipython",
    "version": 3
   },
   "file_extension": ".py",
   "mimetype": "text/x-python",
   "name": "python",
   "nbconvert_exporter": "python",
   "pygments_lexer": "ipython3",
   "version": "3.8.17"
  },
  "orig_nbformat": 4
 },
 "nbformat": 4,
 "nbformat_minor": 2
}
