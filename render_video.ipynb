{
 "cells": [
  {
   "cell_type": "code",
   "execution_count": 41,
   "metadata": {},
   "outputs": [],
   "source": [
    "import torch\n",
    "import numpy as np\n",
    "\n",
    "def trans_t(t):\n",
    "\n",
    "    return torch.Tensor([\n",
    "    [1.,0.,0.,0.],\n",
    "    [0.,1.,0.,0.],\n",
    "    [0.,0.,1.,t],\n",
    "    [0.,0.,0.,1.],\n",
    "])\n",
    "\n",
    "def rot_phi(phi):\n",
    "    \n",
    "     return torch.Tensor([\n",
    "    [1.,0.,0.,0.],\n",
    "    [0.,torch.cos(phi),-torch.sin(phi),0.],\n",
    "    [0.,torch.sin(phi), torch.cos(phi),0.],\n",
    "    [0.,0.,0.,1.],])\n",
    "\n",
    "\n",
    "def rot_theta(th):\n",
    "\n",
    "    return torch.Tensor([\n",
    "        [torch.cos(th),0.,-torch.sin(th),0.],\n",
    "        [0.,1.,0.,0.],\n",
    "        [torch.sin(th),0, torch.cos(th),0],\n",
    "        [0.,0.,0.,1.],\n",
    "    ])    \n",
    "\n",
    "\n",
    "def pose_spherical(theta, phi, radius):\n",
    "    c2w = trans_t(torch.Tensor([radius]))\n",
    "    c2w = rot_phi(torch.Tensor([phi/180.*np.pi])) @ c2w\n",
    "    c2w = rot_theta(torch.Tensor([theta/180.*np.pi])) @ c2w\n",
    "    c2w = torch.Tensor([[-1.,0.,0.,0.],[0.,0.,1.,0.],[0.,1.,0.,0.],[0.,0.,0.,1.]]) @ c2w\n",
    "    return c2w.numpy()\n",
    "\n"
   ]
  },
  {
   "cell_type": "code",
   "execution_count": 42,
   "metadata": {},
   "outputs": [],
   "source": [
    "def get_rays_rendering(c2w):\n",
    "\n",
    "    H = 400\n",
    "    W = 400\n",
    "    f = 1333.33\n",
    "\n",
    "    rays_o = np.zeros((H*W, 3))\n",
    "    rays_d = np.zeros((H*W, 3))\n",
    "    u = np.arange(W)\n",
    "    v = np.arange(H)\n",
    "    u, v = np.meshgrid(u, v)\n",
    "    dirs = np.stack((u - W / 2, -(v - H / 2), - np.ones_like(u) * f), axis=-1)\n",
    "    dirs = (c2w[:3, :3] @ dirs[..., None]).squeeze(-1)\n",
    "    dirs = dirs / np.linalg.norm(dirs, axis=-1, keepdims=True)\n",
    "        \n",
    "    rays_d= dirs.reshape(-1, 3)\n",
    "    rays_o += c2w[:3, 3]\n",
    "\n",
    "    return rays_o, rays_d"
   ]
  },
  {
   "cell_type": "code",
   "execution_count": 47,
   "metadata": {},
   "outputs": [],
   "source": [
    "device = 'cpu'\n",
    "tn = 8\n",
    "tf = 12\n",
    "\n",
    "model = torch.load(\"model_voxel\")\n",
    "\n",
    "\n",
    "from rendering import rendering\n",
    "\n",
    "frames = []\n",
    "for th in np.linspace(0., 360., 120, endpoint=False):\n",
    "    c2w = pose_spherical(0., -30., 4.)\n",
    "    rays_o, rays_d = get_rays_rendering(c2w[:3,:4])\n",
    "    img = rendering(model, torch.from_numpy(rays_o).to(device), torch.from_numpy(rays_d).to(device), tn, tf, nb_bins=100, device=device)\n",
    "    frames.append(img.reshape(400, 400, 3).data.cpu().numpy().astype(np.uint8))"
   ]
  },
  {
   "cell_type": "code",
   "execution_count": 51,
   "metadata": {},
   "outputs": [
    {
     "name": "stdout",
     "output_type": "stream",
     "text": [
      "torch.Size([160000, 3])\n"
     ]
    },
    {
     "ename": "ValueError",
     "evalue": "The truth value of an array with more than one element is ambiguous. Use a.any() or a.all()",
     "output_type": "error",
     "traceback": [
      "\u001b[0;31m---------------------------------------------------------------------------\u001b[0m",
      "\u001b[0;31mValueError\u001b[0m                                Traceback (most recent call last)",
      "Cell \u001b[0;32mIn[51], line 9\u001b[0m\n\u001b[1;32m      6\u001b[0m \u001b[39mprint\u001b[39m(img\u001b[39m.\u001b[39mshape)\n\u001b[1;32m      7\u001b[0m \u001b[39mimport\u001b[39;00m \u001b[39mmatplotlib\u001b[39;00m\u001b[39m.\u001b[39;00m\u001b[39mpyplot\u001b[39;00m \u001b[39mas\u001b[39;00m \u001b[39mplt\u001b[39;00m\n\u001b[0;32m----> 9\u001b[0m plt\u001b[39m.\u001b[39;49mshow(img\u001b[39m.\u001b[39;49mreshape(\u001b[39m400\u001b[39;49m, \u001b[39m400\u001b[39;49m, \u001b[39m3\u001b[39;49m)\u001b[39m.\u001b[39;49mdata\u001b[39m.\u001b[39;49mcpu()\u001b[39m.\u001b[39;49mnumpy())\n",
      "File \u001b[0;32m~/Developer/udemy-nerf/env/lib/python3.8/site-packages/matplotlib/pyplot.py:446\u001b[0m, in \u001b[0;36mshow\u001b[0;34m(*args, **kwargs)\u001b[0m\n\u001b[1;32m    402\u001b[0m \u001b[39m\u001b[39m\u001b[39m\"\"\"\u001b[39;00m\n\u001b[1;32m    403\u001b[0m \u001b[39mDisplay all open figures.\u001b[39;00m\n\u001b[1;32m    404\u001b[0m \n\u001b[0;32m   (...)\u001b[0m\n\u001b[1;32m    443\u001b[0m \u001b[39mexplicitly there.\u001b[39;00m\n\u001b[1;32m    444\u001b[0m \u001b[39m\"\"\"\u001b[39;00m\n\u001b[1;32m    445\u001b[0m _warn_if_gui_out_of_main_thread()\n\u001b[0;32m--> 446\u001b[0m \u001b[39mreturn\u001b[39;00m _get_backend_mod()\u001b[39m.\u001b[39;49mshow(\u001b[39m*\u001b[39;49margs, \u001b[39m*\u001b[39;49m\u001b[39m*\u001b[39;49mkwargs)\n",
      "File \u001b[0;32m~/Developer/udemy-nerf/env/lib/python3.8/site-packages/matplotlib_inline/backend_inline.py:98\u001b[0m, in \u001b[0;36mshow\u001b[0;34m(close, block)\u001b[0m\n\u001b[1;32m     95\u001b[0m show\u001b[39m.\u001b[39m_to_draw \u001b[39m=\u001b[39m []\n\u001b[1;32m     96\u001b[0m \u001b[39m# only call close('all') if any to close\u001b[39;00m\n\u001b[1;32m     97\u001b[0m \u001b[39m# close triggers gc.collect, which can be slow\u001b[39;00m\n\u001b[0;32m---> 98\u001b[0m \u001b[39mif\u001b[39;00m close \u001b[39mand\u001b[39;00m Gcf\u001b[39m.\u001b[39mget_all_fig_managers():\n\u001b[1;32m     99\u001b[0m     matplotlib\u001b[39m.\u001b[39mpyplot\u001b[39m.\u001b[39mclose(\u001b[39m'\u001b[39m\u001b[39mall\u001b[39m\u001b[39m'\u001b[39m)\n",
      "\u001b[0;31mValueError\u001b[0m: The truth value of an array with more than one element is ambiguous. Use a.any() or a.all()"
     ]
    }
   ],
   "source": [
    "%matplotlib inline\n",
    "c2w = pose_spherical(0., -30., 4.)\n",
    "rays_o, rays_d = get_rays_rendering(c2w[:3,:4])\n",
    "img = rendering(model, torch.from_numpy(rays_o).to(device), torch.from_numpy(rays_d).to(device), tn, tf, nb_bins=100, device=device)\n",
    "\n",
    "print(img.shape)\n",
    "import matplotlib.pyplot as plt\n",
    "\n",
    "plt.show(img.reshape(400, 400, 3).data.cpu().numpy())"
   ]
  },
  {
   "cell_type": "code",
   "execution_count": 48,
   "metadata": {},
   "outputs": [],
   "source": [
    "import imageio\n",
    "f = 'video.mp4'\n",
    "imageio.mimwrite(f, frames, fps=30, quality=7)"
   ]
  }
 ],
 "metadata": {
  "kernelspec": {
   "display_name": "env",
   "language": "python",
   "name": "python3"
  },
  "language_info": {
   "codemirror_mode": {
    "name": "ipython",
    "version": 3
   },
   "file_extension": ".py",
   "mimetype": "text/x-python",
   "name": "python",
   "nbconvert_exporter": "python",
   "pygments_lexer": "ipython3",
   "version": "3.8.17"
  },
  "orig_nbformat": 4
 },
 "nbformat": 4,
 "nbformat_minor": 2
}
